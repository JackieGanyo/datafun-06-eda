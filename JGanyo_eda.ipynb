{
 "cells": [
  {
   "cell_type": "markdown",
   "metadata": {},
   "source": [
    "# Project 6 EDA Notebook\n",
    "\n",
    "### Jackie Ganyo\n",
    "## Purpose: Exploratory Data Analysis (EDA) Jupyter Notebook Project\n",
    "\n",
    "This Jupyter Notebook project aims to perform Exploratory Data Analysis (EDA) on Seaborn's health expenses dataset. The purpose of this project is to gain insights, discover patterns, and identify trends in the data through various statistical and visual exploration techniques. By analyzing the data, we can better understand its characteristics, uncover potential relationships between variables, and make informed decisions for further analysis or modeling.\n",
    "\n",
    "Please note that this documentation comment is specific to the Jupyter Notebook project mentioned in the filepath provided.\n"
   ]
  },
  {
   "cell_type": "code",
   "execution_count": 13,
   "metadata": {},
   "outputs": [],
   "source": [
    "#Import statements for all required libraries\n",
    "import jupyter\n",
    "import matplotlib.pyplot as plt\n",
    "import numpy\n",
    "import pandas as pd\n",
    "import seaborn as sns\n",
    "import scipy"
   ]
  },
  {
   "cell_type": "markdown",
   "metadata": {},
   "source": [
    "#### Load the dataset into a pandas DataFrame -  Seaborn Health Expense set\n",
    "\n"
   ]
  },
  {
   "cell_type": "code",
   "execution_count": 14,
   "metadata": {},
   "outputs": [],
   "source": [
    "df = sns.load_dataset('healthexp')"
   ]
  },
  {
   "cell_type": "markdown",
   "metadata": {},
   "source": [
    "#### Inspect first rows of the DataFrame\n"
   ]
  },
  {
   "cell_type": "code",
   "execution_count": 15,
   "metadata": {},
   "outputs": [
    {
     "name": "stdout",
     "output_type": "stream",
     "text": [
      "   Year        Country  Spending_USD  Life_Expectancy\n",
      "0  1970        Germany       252.311             70.6\n",
      "1  1970         France       192.143             72.2\n",
      "2  1970  Great Britain       123.993             71.9\n",
      "3  1970          Japan       150.437             72.0\n",
      "4  1970            USA       326.961             70.9\n"
     ]
    }
   ],
   "source": [
    "print(df.head())"
   ]
  },
  {
   "cell_type": "markdown",
   "metadata": {},
   "source": [
    "#### Initial Data Inspection"
   ]
  },
  {
   "cell_type": "code",
   "execution_count": 16,
   "metadata": {},
   "outputs": [
    {
     "name": "stdout",
     "output_type": "stream",
     "text": [
      "   Year        Country  Spending_USD  Life_Expectancy\n",
      "0  1970        Germany       252.311             70.6\n",
      "1  1970         France       192.143             72.2\n",
      "2  1970  Great Britain       123.993             71.9\n",
      "3  1970          Japan       150.437             72.0\n",
      "4  1970            USA       326.961             70.9\n",
      "5  1971         Canada       313.391             72.8\n",
      "6  1971        Germany       298.251             70.8\n",
      "7  1971  Great Britain       134.172             71.9\n",
      "8  1971          Japan       163.854             72.9\n",
      "9  1971            USA       357.988             71.2\n",
      "(274, 4)\n",
      "Year                 int64\n",
      "Country             object\n",
      "Spending_USD       float64\n",
      "Life_Expectancy    float64\n",
      "dtype: object\n"
     ]
    }
   ],
   "source": [
    "#Display the first 10 rows of the dataset\n",
    "print(df.head(10))\n",
    "\n",
    "#Check the shape of the data frame\n",
    "print(df.shape)\n",
    "\n",
    "#Check the data types of the columns\n",
    "print(df.dtypes)"
   ]
  },
  {
   "cell_type": "markdown",
   "metadata": {},
   "source": [
    "#### Initial Descriptive Statistics"
   ]
  },
  {
   "cell_type": "code",
   "execution_count": 17,
   "metadata": {},
   "outputs": [
    {
     "name": "stdout",
     "output_type": "stream",
     "text": [
      "              Year  Spending_USD  Life_Expectancy\n",
      "count   274.000000    274.000000       274.000000\n",
      "mean   1996.992701   2789.338905        77.909489\n",
      "std      14.180933   2194.939785         3.276263\n",
      "min    1970.000000    123.993000        70.600000\n",
      "25%    1985.250000   1038.357000        75.525000\n",
      "50%    1998.000000   2295.578000        78.100000\n",
      "75%    2009.000000   4055.610000        80.575000\n",
      "max    2020.000000  11859.179000        84.700000\n"
     ]
    }
   ],
   "source": [
    "#Run the describe function on the data frame\n",
    "print(df.describe())"
   ]
  },
  {
   "cell_type": "markdown",
   "metadata": {},
   "source": []
  }
 ],
 "metadata": {
  "kernelspec": {
   "display_name": ".venv",
   "language": "python",
   "name": "python3"
  },
  "language_info": {
   "codemirror_mode": {
    "name": "ipython",
    "version": 3
   },
   "file_extension": ".py",
   "mimetype": "text/x-python",
   "name": "python",
   "nbconvert_exporter": "python",
   "pygments_lexer": "ipython3",
   "version": "3.12.3"
  }
 },
 "nbformat": 4,
 "nbformat_minor": 2
}
