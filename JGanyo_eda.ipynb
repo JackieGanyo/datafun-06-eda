{
 "cells": [
  {
   "cell_type": "markdown",
   "metadata": {},
   "source": [
    "# Project 6 EDA Notebook\n",
    "\n",
    "### Jackie Ganyo\n",
    "## Purpose: Exploratory Data Analysis (EDA) Jupyter Notebook Project\n",
    "\n",
    "This Jupyter Notebook project aims to perform Exploratory Data Analysis (EDA) on Seaborn's health expenses dataset. The purpose of this project is to gain insights, discover patterns, and identify trends in the data through various statistical and visual exploration techniques. By analyzing the data, we can better understand its characteristics, uncover potential relationships between variables, and make informed decisions for further analysis or modeling.\n",
    "\n",
    "Please note that this documentation comment is specific to the Jupyter Notebook project mentioned in the filepath provided.\n"
   ]
  },
  {
   "cell_type": "code",
   "execution_count": null,
   "metadata": {
    "vscode": {
     "languageId": "plaintext"
    }
   },
   "outputs": [],
   "source": [
    "#Import statements for all required libraries\n",
    "import jupyter\n",
    "import matplotlib\n",
    "import numpy\n",
    "import pandas\n",
    "import seaborn\n",
    "import scipy"
   ]
  }
 ],
 "metadata": {
  "language_info": {
   "name": "python"
  }
 },
 "nbformat": 4,
 "nbformat_minor": 2
}
